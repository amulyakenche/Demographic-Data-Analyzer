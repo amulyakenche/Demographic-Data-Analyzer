{
  "nbformat": 4,
  "nbformat_minor": 0,
  "metadata": {
    "colab": {
      "provenance": []
    },
    "kernelspec": {
      "name": "python3",
      "display_name": "Python 3"
    },
    "language_info": {
      "name": "python"
    }
  },
  "cells": [
    {
      "cell_type": "code",
      "execution_count": null,
      "metadata": {
        "colab": {
          "base_uri": "https://localhost:8080/"
        },
        "id": "0JTWlv41MSs_",
        "outputId": "17524244-17b1-4e79-cb54-908ee7bbdfa5"
      },
      "outputs": [
        {
          "output_type": "stream",
          "name": "stdout",
          "text": [
            "Requirement already satisfied: pandas in /usr/local/lib/python3.10/dist-packages (1.5.3)\n",
            "Requirement already satisfied: python-dateutil>=2.8.1 in /usr/local/lib/python3.10/dist-packages (from pandas) (2.8.2)\n",
            "Requirement already satisfied: pytz>=2020.1 in /usr/local/lib/python3.10/dist-packages (from pandas) (2023.3)\n",
            "Requirement already satisfied: numpy>=1.21.0 in /usr/local/lib/python3.10/dist-packages (from pandas) (1.23.5)\n",
            "Requirement already satisfied: six>=1.5 in /usr/local/lib/python3.10/dist-packages (from python-dateutil>=2.8.1->pandas) (1.16.0)\n"
          ]
        }
      ],
      "source": [
        "pip install pandas\n"
      ]
    },
    {
      "cell_type": "code",
      "source": [
        "import pandas as pd\n",
        "\n",
        "# Load the dataset (replace 'demographic_data.csv' with your actual dataset)\n",
        "df = pd.read_csv('adult.data.csv')\n",
        "\n",
        "# Display the first few rows of the dataset\n",
        "print(\"Sample data:\")\n",
        "print(df.head())\n",
        "\n",
        "# Calculate the average age\n",
        "average_age = df['age'].mean()\n",
        "print(\"\\nAverage Age:\", average_age)\n",
        "\n",
        "# Calculate the percentage of people with Bachelor's degree or higher\n",
        "higher_education = df[df['education'].isin(['Bachelors', 'Masters', 'Doctorate'])]\n",
        "higher_education_percentage = (len(higher_education) / len(df)) * 100\n",
        "print(\"\\nPercentage with Higher Education:\", higher_education_percentage)\n",
        "\n",
        "# Calculate the percentage of people making more than $50,000\n",
        "high_income_percentage = (len(df[df['salary'] == '>50K']) / len(df)) * 100\n",
        "print(\"\\nPercentage with High Income:\", high_income_percentage)\n",
        "\n",
        "# Find the minimum and maximum age\n",
        "min_age = df['age'].min()\n",
        "max_age = df['age'].max()\n",
        "print(\"\\nMinimum Age:\", min_age)\n",
        "print(\"Maximum Age:\", max_age)\n",
        "\n",
        "# Calculate the median age\n",
        "median_age = df['age'].median()\n",
        "print(\"\\nMedian Age:\", median_age)\n",
        "\n",
        "# Calculate the average hours worked per week\n",
        "average_hours_per_week = df['hours-per-week'].mean()\n",
        "print(\"\\nAverage Hours per Week:\", average_hours_per_week)\n",
        "\n",
        "# Calculate the percentage of US citizens\n",
        "us_citizens_percentage = (len(df[df['native-country'] == 'United-States']) / len(df)) * 100\n",
        "print(\"\\nPercentage of US Citizens:\", us_citizens_percentage)\n"
      ],
      "metadata": {
        "colab": {
          "base_uri": "https://localhost:8080/"
        },
        "id": "9TNnEvhSMT4X",
        "outputId": "0ed1b35c-c88c-4042-ca49-0ada3f9ba469"
      },
      "execution_count": null,
      "outputs": [
        {
          "output_type": "stream",
          "name": "stdout",
          "text": [
            "Sample data:\n",
            "   age         workclass  fnlwgt  education  education-num  \\\n",
            "0   39         State-gov   77516  Bachelors             13   \n",
            "1   50  Self-emp-not-inc   83311  Bachelors             13   \n",
            "2   38           Private  215646    HS-grad              9   \n",
            "3   53           Private  234721       11th              7   \n",
            "4   28           Private  338409  Bachelors             13   \n",
            "\n",
            "       marital-status         occupation   relationship   race     sex  \\\n",
            "0       Never-married       Adm-clerical  Not-in-family  White    Male   \n",
            "1  Married-civ-spouse    Exec-managerial        Husband  White    Male   \n",
            "2            Divorced  Handlers-cleaners  Not-in-family  White    Male   \n",
            "3  Married-civ-spouse  Handlers-cleaners        Husband  Black    Male   \n",
            "4  Married-civ-spouse     Prof-specialty           Wife  Black  Female   \n",
            "\n",
            "   capital-gain  capital-loss  hours-per-week native-country salary  \n",
            "0          2174             0              40  United-States  <=50K  \n",
            "1             0             0              13  United-States  <=50K  \n",
            "2             0             0              40  United-States  <=50K  \n",
            "3             0             0              40  United-States  <=50K  \n",
            "4             0             0              40           Cuba  <=50K  \n",
            "\n",
            "Average Age: 38.58164675532078\n",
            "\n",
            "Percentage with Higher Education: 23.006050182733944\n",
            "\n",
            "Percentage with High Income: 24.080955744602438\n",
            "\n",
            "Minimum Age: 17\n",
            "Maximum Age: 90\n",
            "\n",
            "Median Age: 37.0\n",
            "\n",
            "Average Hours per Week: 40.437455852092995\n",
            "\n",
            "Percentage of US Citizens: 89.5857006848684\n"
          ]
        }
      ]
    }
  ]
}